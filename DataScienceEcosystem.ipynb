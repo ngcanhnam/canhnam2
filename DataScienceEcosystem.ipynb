
cognitiveclass.ai logo
Add your code below following the instructions given in the course
Data Science Tools and Ecosystems
In this notebook, Data Science Tools and Ecosystem are summarized.

Some of the most popular languages that Data Scientists use are:

R
Python
SLQ
Some of the commonly used libraries used by Data Scientists include:

Pandas
TensorFlow
Numpy
Data Science Tools
Tensor Flow
Apache Spark
Apache Hadoop
Below are a few examples of evaluating arithmetic expressions in Python
# This is a simple artithmetic expression to multiply then add integers.

(3*4)+5
17
# this will convert 200 minutes to hours by dividing by 60.

200/60
3.3333333333333335
Objectives:
Make a list with popular languages for Data Science
List libraries used in Data Science
create a table of popular data tools
Create and show examples of simple arithmetic operations
Author:
McKenzie Broadwell


Dịch

